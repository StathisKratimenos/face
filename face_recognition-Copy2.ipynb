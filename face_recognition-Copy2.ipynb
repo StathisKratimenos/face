{
 "cells": [
  {
   "cell_type": "code",
   "execution_count": 1,
   "metadata": {},
   "outputs": [],
   "source": [
    "import cv2\n",
    "import os"
   ]
  },
  {
   "cell_type": "code",
   "execution_count": 128,
   "metadata": {},
   "outputs": [
    {
     "name": "stdout",
     "output_type": "stream",
     "text": [
      "\n",
      " enter user id end press <return> ==>  maria\n",
      "\n",
      " [INFO] Initializing face capture. Look the camera and move the head left right up down for 10 seconds ...\n",
      "\n",
      " [INFO] Exiting Program and cleanup stuff\n"
     ]
    }
   ],
   "source": [
    "cam = cv2.VideoCapture(0)\n",
    "cam.set(3, 640) # set video width\n",
    "cam.set(4, 480) # set video height\n",
    "\n",
    "face_detector = cv2.CascadeClassifier('haarcascade_frontalface_default.xml')\n",
    "\n",
    "# For each person, enter one numeric face id\n",
    "face_id = input('\\n enter user id end press <return> ==>  ')\n",
    "\n",
    "print(\"\\n [INFO] Initializing face capture. Look the camera and move the head left right up down for 10 seconds ...\")\n",
    "# Initialize individual sampling face count\n",
    "count = 0\n",
    "\n",
    "while(True):\n",
    "\n",
    "    ret, img = cam.read()\n",
    "    #img = cv2.flip(img, -1) # flip video image vertically\n",
    "    gray = cv2.cvtColor(img, cv2.COLOR_BGR2BGRA)\n",
    "    faces = face_detector.detectMultiScale(gray, 1.3, 5)\n",
    "\n",
    "    for (x,y,w,h) in faces:\n",
    "\n",
    "        cv2.rectangle(img, (x,y), (x+w,y+h), (255,0,0), 2)     \n",
    "        count += 1\n",
    "\n",
    "        # Save the captured image into the datasets folder\n",
    "        cv2.imwrite(\"dataset/User.\" + str(face_id) + '.' + str(count) + \".jpg\", gray[y:y+h,x:x+w])\n",
    "\n",
    "        cv2.imshow('image', img)\n",
    "\n",
    "    k = cv2.waitKey(100) & 0xff # Press 'ESC' for exiting video\n",
    "    if k == 27:\n",
    "        break\n",
    "    elif count >= 100: # Take 100 face sample and stop video\n",
    "         break\n",
    "\n",
    "# Do a bit of cleanup\n",
    "print(\"\\n [INFO] Exiting Program and cleanup stuff\")\n",
    "cam.release()\n",
    "cv2.destroyAllWindows()"
   ]
  },
  {
   "cell_type": "code",
   "execution_count": 204,
   "metadata": {},
   "outputs": [
    {
     "name": "stdout",
     "output_type": "stream",
     "text": [
      "Found 1 images belonging to 1 classes.\n",
      "Found 1 images belonging to 1 classes.\n"
     ]
    },
    {
     "data": {
      "text/plain": [
       "{'New folder': 0}"
      ]
     },
     "execution_count": 204,
     "metadata": {},
     "output_type": "execute_result"
    }
   ],
   "source": [
    "# folder where images are present\n",
    "TrainingImagePath='./dataset11'\n",
    "\n",
    "from keras.preprocessing.image import ImageDataGenerator\n",
    "img_rows, img_cols = 64, 64\n",
    "batch_size=32\n",
    "\n",
    "# Defining pre-processing transformations on raw images of training data\n",
    "# These hyper parameters helps to generate slightly twisted versions\n",
    "# of the original image, which leads to a better model, since it learns\n",
    "# on the good and bad mix of images\n",
    "train_datagen = ImageDataGenerator(\n",
    "        shear_range=0.1,\n",
    "        zoom_range=0.1,\n",
    "        horizontal_flip=True)\n",
    "\n",
    "# Defining pre-processing transformations on raw images of testing data\n",
    "# No transformations are done on the testing images\n",
    "test_datagen = ImageDataGenerator()\n",
    "\n",
    "'''# Let's use some data augmentaiton \n",
    "train_datagen = ImageDataGenerator(\n",
    "      rescale=1./255,\n",
    "      rotation_range=30,\n",
    "      shear_range=0.3,\n",
    "      zoom_range=0.3,\n",
    "      width_shift_range=0.4,\n",
    "      height_shift_range=0.4,\n",
    "      horizontal_flip=True,\n",
    "      fill_mode='nearest')'''\n",
    "\n",
    "# Generating the Training Data\n",
    "training_set = train_datagen.flow_from_directory(\n",
    "        TrainingImagePath,\n",
    "        target_size=(img_rows, img_rows),\n",
    "        batch_size=batch_size,\n",
    "        class_mode='categorical',\n",
    "        shuffle=True)\n",
    "\n",
    "\n",
    "# Generating the Testing Data\n",
    "test_set = test_datagen.flow_from_directory(\n",
    "        TrainingImagePath,\n",
    "        target_size=(img_rows, img_rows),\n",
    "        batch_size=batch_size,\n",
    "        class_mode='categorical',\n",
    "        shuffle=True)\n",
    "\n",
    "# Printing class labels for each face\n",
    "test_set.class_indices"
   ]
  },
  {
   "cell_type": "code",
   "execution_count": 186,
   "metadata": {
    "scrolled": true
   },
   "outputs": [
    {
     "name": "stdout",
     "output_type": "stream",
     "text": [
      "Mapping of Face and its ID {0: 'AJ_Cook', 1: 'AJ_Lamas', 2: 'Aaron_Eckhart', 3: 'Aaron_Guiel', 4: 'Aaron_Patterson', 5: 'Aaron_Peirsol', 6: 'Aaron_Pena', 7: 'Aaron_Sorkin', 8: 'Aaron_Tippin', 9: 'Abba_Eban', 10: 'Abbas_Kiarostami', 11: 'Abdel_Aziz_Al-Hakim', 12: 'Abdel_Madi_Shabneh', 13: 'Abdel_Nasser_Assidi', 14: 'Abdoulaye_Wade', 15: 'Abdul_Majeed_Shobokshi', 16: 'Abdul_Rahman', 17: 'Abdulaziz_Kamilov', 18: 'Abdullah', 19: 'Abdullah_Ahmad_Badawi', 20: 'Abdullah_Gul', 21: 'Abdullah_Nasseef', 22: 'Abdullah_al-Attiyah', 23: 'Abdullatif_Sener', 24: 'Abel_Aguilar', 25: 'Abel_Pacheco', 26: 'Abid_Hamid_Mahmud_Al-Tikriti', 27: 'Abner_Martinez', 28: 'Abraham_Foxman', 29: 'Aby_Har-Even', 30: 'Adam_Ant', 31: 'Adam_Freier', 32: 'Adam_Herbert', 33: 'Adam_Kennedy', 34: 'Adam_Mair', 35: 'Adam_Rich', 36: 'Adam_Sandler', 37: 'Adam_Scott', 38: 'Adel_Al-Jubeir', 39: 'Adelina_Avila', 40: 'Adisai_Bodharamik', 41: 'Adolfo_Aguilar_Zinser', 42: 'Adolfo_Rodriguez_Saa', 43: 'Adoor_Gopalakarishnan', 44: 'Adrian_Annus', 45: 'Adrian_Fernandez', 46: 'Adrian_McPherson', 47: 'Adrian_Murrell', 48: 'Adrian_Nastase', 49: 'Adriana_Lima', 50: 'Adriana_Perez_Navarro', 51: 'Adrianna_Zuzic', 52: 'Adrien_Brody', 53: 'Afton_Smith', 54: 'Agbani_Darego', 55: 'Agnelo_Queiroz', 56: 'Agnes_Bruckner', 57: 'Ahmad_Jbarah', 58: 'Ahmad_Masood', 59: 'Ahmed_Ahmed', 60: 'Ahmed_Chalabi', 61: 'Ahmed_Ghazi', 62: 'Ahmed_Ibrahim_Bilal', 63: 'Ahmed_Lopez', 64: 'Ahmed_Qureia', 65: 'Ahmet_Demir', 66: 'Ahmet_Necdet_Sezer', 67: 'Ai_Sugiyama', 68: 'Aicha_El_Ouafi', 69: 'Aidan_Quinn', 70: 'Aileen_Riggin_Soule', 71: 'Ain_Seppik', 72: 'Ainsworth_Dyer', 73: 'Aishwarya_Rai', 74: 'Aitor_Gonzalez', 75: 'Aiysha_Smith', 76: 'Ajit_Agarkar', 77: 'Akbar_Al_Baker', 78: 'Akbar_Hashemi_Rafsanjani', 79: 'Akhmed_Zakayev', 80: 'Akiko_Morigami', 81: 'Akmal_Taher', 82: 'Al_Cardenas', 83: 'Al_Davis', 84: 'Al_Gore', 85: 'Al_Leiter', 86: 'Al_Pacino', 87: 'Al_Sharpton', 88: 'Alain_Cervantes', 89: 'Alain_Ducasse', 90: 'Alan_Ball', 91: 'Alan_Dershowitz', 92: 'Alan_Dreher', 93: 'Alan_Greenspan', 94: 'Alan_Greer', 95: 'Alan_Jackson', 96: 'Alan_Mulally', 97: 'Alan_Stonecipher', 98: 'Alan_Tang_Kwong-wing', 99: 'Alan_Trammell', 100: 'Alan_Zemaitis', 101: 'Alanis_Morissette', 102: 'Alanna_Ubach', 103: 'Alastair_Campbell', 104: 'Alastair_Johnston', 105: 'Albaro_Recoba', 106: 'Albert_Brooks', 107: 'Albert_Costa', 108: 'Albert_Montanes', 109: 'Albert_Pujols', 110: 'Alberta_Lee', 111: 'Alberto_Acosta', 112: 'Alberto_Fujimori', 113: 'Alberto_Gonzales', 114: 'Alberto_Ruiz_Gallardon', 115: 'Alberto_Sordi', 116: 'Albrecht_Mentz', 117: 'Aldo_Paredes', 118: 'Alec_Baldwin', 119: 'Alecos_Markides', 120: 'Alejandro_Atchugarry', 121: 'Alejandro_Avila', 122: 'Alejandro_Fernandez', 123: 'Alejandro_Gonzalez_Inarritu', 124: 'Alejandro_Lembo', 125: 'Alejandro_Lerner', 126: 'Alejandro_Lopez', 127: 'Alejandro_Toledo', 128: 'Alek_Wek', 129: 'Aleksander_Kwasniewski', 130: 'Aleksander_Voloshin', 131: 'Alessandra_Cerna', 132: 'Alessandro_Nesta', 133: 'Alex_Barros', 134: 'Alex_Cabrera', 135: 'Alex_Cejka', 136: 'Alex_Corretja', 137: 'Alex_Ferguson', 138: 'Alex_Gonzalez', 139: 'Alex_Holmes', 140: 'Alex_King', 141: 'Alex_Penelas', 142: 'Alex_Popov', 143: 'Alex_Sink', 144: 'Alex_Wallau', 145: 'Alex_Zanardi', 146: 'Alexa_Loren', 147: 'Alexa_Vega', 148: 'Alexander_Downer', 149: 'Alexander_Losyukov', 150: 'Alexander_Lukashenko', 151: 'Alexander_Payne', 152: 'Alexander_Rumyantsev', 153: 'Alexandra_Jackson', 154: 'Alexandra_Pelosi', 155: 'Alexandra_Rozovskaya', 156: 'Alexandra_Spann', 157: 'Alexandra_Stevenson', 158: 'Alexandra_Vodjanikova', 159: 'Alexandre_Daigle', 160: 'Alexandre_Despatie', 161: 'Alexandre_Herchcovitch', 162: 'Alexandre_Vinokourov', 163: 'Alexis_Bledel', 164: 'Alexis_Dennisoff', 165: 'Alfonso_Cuaron', 166: 'Alfonso_Portillo', 167: 'Alfonso_Soriano', 168: 'Alfred_Ford', 169: 'Alfred_Sant', 170: 'Alfredo_Moreno', 171: 'Alfredo_Pena', 172: 'Alfredo_di_Stefano', 173: 'Ali_Abbas', 174: 'Ali_Abdullah_Saleh', 175: 'Ali_Adbul_Karim_Madani', 176: 'Ali_Ahmeti', 177: 'Ali_Bin_Hussein', 178: 'Ali_Fallahian', 179: 'Ali_Hammoud', 180: 'Ali_Khamenei', 181: 'Ali_Mohammed_Maher', 182: 'Ali_Naimi', 183: 'Alice_Fisher', 184: 'Alicia_Hollowell', 185: 'Alicia_Keys', 186: 'Alicia_Molik', 187: 'Alicia_Silverstone', 188: 'Alicia_Witt', 189: 'Alimzhan_Tokhtakhounov', 190: 'Alina_Kabaeva', 191: 'Aline_Chretien', 192: 'Alisha_Richman', 193: 'Alison_Krauss', 194: 'Alison_Lohman', 195: 'Alistair_MacDonald', 196: 'Allan_Houston', 197: 'Allan_Kemakeza', 198: 'Allan_Wagner', 199: 'Allen_Iverson', 200: 'Allen_Rock', 201: 'Allison_Janney', 202: 'Allison_Searing', 203: 'Ally_Sheedy', 204: 'Allyson_Felix', 205: 'Alma_Powell', 206: 'Almeida_Baptista', 207: 'Alonzo_Mourning', 208: 'Alvaro_Noboa', 209: 'Alvaro_Silva_Calderon', 210: 'Alvaro_Uribe', 211: 'Aly_Wagner', 212: 'Alyse_Beaupre', 213: 'Alyson_Hannigan', 214: 'Amanda_Beard', 215: 'Amanda_Bynes', 216: 'Amanda_Coetzer', 217: 'Amanda_Marsh', 218: 'Amanda_Plumer', 219: 'Amber_Frey', 220: 'Amber_Tamblyn', 221: 'Ambrose_Lee', 222: 'Amelia_Vega', 223: 'Amelie_Mauresmo', 224: 'Amer_al-Saadi', 225: 'Amporn_Falise', 226: 'Amr_Moussa', 227: 'Amram_Mitzna', 228: 'Amy_Brenneman', 229: 'Amy_Cotton', 230: 'Amy_Gale', 231: 'Amy_Pascal', 232: 'Amy_Redford', 233: 'Amy_Smart', 234: 'Amy_Yasbeck', 235: 'AnFernce_Negron', 236: 'Ana_Claudia_Talancon', 237: 'Ana_Guevara', 238: 'Ana_Isabel_Sanchez', 239: 'Ana_Palacio', 240: 'Ana_Paula_Gerard', 241: 'Ana_Sebastiao', 242: 'Anastasia_Kelesidou', 243: 'Anastasia_Myskina', 244: 'Anatoliy_Kinakh', 245: 'Anders_Ebbeson', 246: 'Anders_Fogh_Rasmussen', 247: 'Anderson_Varejao', 248: 'Andre_Agassi', 249: 'Andre_Bucher', 250: 'Andre_Lange', 251: 'Andre_Smith', 252: 'Andre_Techine', 253: 'Andrea_Bocelli', 254: 'Andrea_De_Cruz', 255: 'Andrea_Kiser', 256: 'Andrea_Yates', 257: 'Andreas_Vinciguerra', 258: 'Andrei_Konchalovsky', 259: 'Andrei_Mikhnevich', 260: 'Andrei_Nikolishin', 261: 'Andres_DAlessandro', 262: 'Andres_Manuel_Lopez_Obrador', 263: 'Andres_Pastrana', 264: 'Andrew_Bernard', 265: 'Andrew_Bunner', 266: 'Andrew_Caldecott', 267: 'Andrew_Cuomo', 268: 'Andrew_Fastow', 269: 'Andrew_Firestone', 270: 'Andrew_Gilligan', 271: 'Andrew_Jarecki', 272: 'Andrew_Luster', 273: 'Andrew_Niccol', 274: 'Andrew_Sabey', 275: 'Andrew_Shutley', 276: 'Andrew_Weissmann', 277: 'Andrew_Wetzler', 278: 'Andrzej_Tyszkiewicz', 279: 'Andy_Benes', 280: 'Andy_Bryant', 281: 'Andy_Dick', 282: 'Andy_Garcia', 283: 'Andy_Graves', 284: 'Andy_Griffith', 285: 'Andy_Griggs', 286: 'Andy_Hebb', 287: 'Andy_Lau', 288: 'Andy_Madikians', 289: 'Andy_North', 290: 'Andy_Perez', 291: 'Andy_Roddick', 292: 'Andy_Rooney', 293: 'Andy_Warhol', 294: 'Andy_Wisecarver', 295: 'Anette_Hosoi', 296: 'Angel_Lockward', 297: 'Angel_Maza', 298: 'Angela_Alvarado_Rosa', 299: 'Angela_Bassett', 300: 'Angela_Lansbury', 301: 'Angela_Mascia-Frye', 302: 'Angela_Merkel', 303: 'Angelica_Romero', 304: 'Angelina_Jolie', 305: 'Angelo_Genova', 306: 'Angelo_Reyes', 307: 'Angie_Arzola', 308: 'Angie_Martinez', 309: 'Anibal_Ibarra', 310: 'Anil_Ramsook', 311: 'Anita_DeFrantz', 312: 'Anja_Paerson', 313: 'Anjum_Hussain', 314: 'Ann_Godbehere', 315: 'Ann_Landers', 316: 'Ann_Morgan', 317: 'Ann_Veneman', 318: 'Anna_Chicherova', 319: 'Anna_Faris', 320: 'Anna_Jones', 321: 'Anna_Kournikova', 322: 'Anna_Nicole_Smith', 323: 'Anne_Cavers', 324: 'Anne_Donovan', 325: 'Anne_Heche', 326: 'Anne_Krueger', 327: 'Anne_McLellan', 328: 'Anne_ONeil', 329: 'Anneli_Jaatteenmaki', 330: 'Annette_Bening', 331: 'Annette_Lu', 332: 'Annie-Jeanne_Reynaud', 333: 'Annie_Chaplin', 334: 'Annie_Machon', 335: 'Annika_Sorenstam', 336: 'Antanas_Valionis', 337: 'Anthony_Carter', 338: 'Anthony_Corso', 339: 'Anthony_Ervin', 340: 'Anthony_Fauci', 341: 'Anthony_Garotinho', 342: 'Anthony_Hazen', 343: 'Anthony_Hopkins', 344: 'Anthony_LaPaglia', 345: 'Anthony_Lee_Johnson', 346: 'Anthony_Mazur', 347: 'Anthony_Pico', 348: 'Anthony_Pisciotti', 349: 'Anthony_Principi', 350: 'Anthony_Rackauckas', 351: 'Anthony_Scott_Miller', 352: 'Antje_Buschschulte', 353: 'Anton_Balasingham', 354: 'Antonio_Banderas', 355: 'Antonio_Bernardo', 356: 'Antonio_Cassano', 357: 'Antonio_Catania', 358: 'Antonio_Elias_Saca', 359: 'Antonio_Palocci', 360: 'Antonio_Trillanes', 361: 'Antony_Leung', 362: 'Antwun_Echols', 363: 'Anwar_Ibrahim', 364: 'Anzori_Kikalishvili', 365: 'Aparna_Pillai', 366: 'Aram_Adler', 367: 'Arantxa_Sanchez-Vicario', 368: 'Aretha_Franklin', 369: 'Ari_Bousbib', 370: 'Ari_Fleischer', 371: 'Arianna_Huffington', 372: 'Arie_Haan', 373: 'Ariel_Sharon', 374: 'Arif_Mardin', 375: 'Arlen_Specter', 376: 'Armand_Sargen', 377: 'Armando_Avila_Panchame', 378: 'Armando_Calderon_Sol', 379: 'Armando_Carrillo', 380: 'Arminio_Fraga', 381: 'Arnaud_Clement', 382: 'Arnaud_Lagardere', 383: 'Arnie_Boehm', 384: 'Arnold_Palmer', 385: 'Arnold_Schwarzenegger', 386: 'Arnold_Scott', 387: 'Arnoldo_Aleman', 388: 'Aron_Ralston', 389: 'Arsinee_Khanjian', 390: 'Art_Cooper', 391: 'Art_Hoffmann', 392: 'Art_Howe', 393: 'Art_Lopez', 394: 'Arthur_Johnson', 395: 'Arthur_Martinez', 396: 'Artieas_Shanks', 397: 'Arturo_Gatti', 398: 'Arye_Mekel', 399: 'Asa_Hutchinson', 400: 'Ascencion_Barajas', 401: 'Ashanti', 402: 'Ashlea_Talbot', 403: 'Ashley_Judd', 404: 'Ashley_Olsen', 405: 'Ashley_Postell', 406: 'Ashraf_Alasmar', 407: 'Ashraf_Ghani', 408: 'Ashton_Kutcher', 409: 'Asif_Ali_Zardari', 410: 'Asif_Hanif', 411: 'Askar_Akayev', 412: 'Asmaa_Assad', 413: 'Assad_Ahmadi', 414: 'Astou_Ndiaye-Diatta', 415: 'Astrid_Betancourt', 416: 'Astrid_Eyzaguirre', 417: 'Atal_Bihari_Vajpayee', 418: 'Ataollah_Mohajerani', 419: 'Atiabet_Ijan_Amabel', 420: 'Atom_Egoyan', 421: 'Atsushi_Sato', 422: 'Audrey_Lacroix', 423: 'Audrey_Sauret', 424: 'Augustin_Calleri', 425: 'Augusto_Pinochet', 426: 'Augusto_Roa_Bastos', 427: 'Aung_San_Suu_Kyi', 428: 'Austin_Kearns', 429: 'Avril_Lavigne', 430: 'Azmi_Bishara', 431: 'Azra_Akin', 432: 'BB_King', 433: 'Babe_Ruth', 434: 'Baburam_Bhattari', 435: 'Bak_Chang-Ryun', 436: 'Barbara_Bach', 437: 'Barbara_Becker', 438: 'Barbara_Bodine', 439: 'Barbara_Boxer', 440: 'Barbara_Brezigar', 441: 'Barbara_De_Brun', 442: 'Barbara_Esbin', 443: 'Barbara_Felt-Miller', 444: 'Barbara_Roberts', 445: 'Barbara_Walters', 446: 'Barbora_Strycova', 447: 'Barbra_Streisand', 448: 'Barrett_Jackman', 449: 'Barry_Alvarez', 450: 'Barry_Bonds', 451: 'Barry_Collier', 452: 'Barry_Diller', 453: 'Barry_Ford', 454: 'Barry_Hinson', 455: 'Barry_Nakell', 456: 'Barry_Switzer', 457: 'Barry_Williams', 458: 'Barry_Zito', 459: 'Bart_Freundlich', 460: 'Bart_Hendricks', 461: 'Bartosz_Kizierowski', 462: 'Barzan_al-Tikriti', 463: 'Basdeo_Panday', 464: 'Bashar_Assad', 465: 'Baz_Luhrmann', 466: 'Beatrice_Dalle', 467: 'Beatriz_Merino', 468: 'Beecher_Ray_Kirby', 469: 'Begum_Khaleda_Zia', 470: 'Bela_Karolyi', 471: 'Ben_Affleck', 472: 'Ben_Betts', 473: 'Ben_Braun', 474: 'Ben_Broussard', 475: 'Ben_Cahoon', 476: 'Ben_Chandler', 477: 'Ben_Cohen', 478: 'Ben_Curtis', 479: 'Ben_Davis', 480: 'Ben_Glisan', 481: 'Ben_Howland', 482: 'Ben_Kingsley', 483: 'Ben_Lee', 484: 'Ben_Stein', 485: 'Ben_Wallace', 486: 'Benazir_Bhutto', 487: 'Benedita_da_Silva', 488: 'Benicio_Del_Toro', 489: 'Benito_Santiago', 490: 'Benjamin_Bratt', 491: 'Benjamin_Franklin', 492: 'Benjamin_Martinez', 493: 'Benjamin_McKenzie', 494: 'Benjamin_Netanyahu', 495: 'Benjamin_Neulander', 496: 'Bernadette_Peters', 497: 'Bernard_Ebbers', 498: 'Bernard_Giraudeau', 499: 'Bernard_Kerik', 500: 'Bernard_Landry', 501: 'Bernard_Law', 502: 'Bernard_Lord', 503: 'Bernard_Siegel', 504: 'Bernardo_Segura', 505: 'Bernice_Wong', 506: 'Bertie_Ahern', 507: 'Bertrand_Bonello', 508: 'Bertrand_Delanoe', 509: 'Beth_Blough', 510: 'Beth_Jones', 511: 'Betsy_Coffin', 512: 'Betsy_Smith', 513: 'Bettina_Rheims', 514: 'Betty_Garrison', 515: 'Betty_Williams', 516: 'Beyonce_Knowles', 517: 'Bianca_Jagger', 518: 'Bijan_Darvish', 519: 'Bijan_Namdar_Zangeneh', 520: 'Bilal_Erdogan', 521: 'Biljana_Plavsic', 522: 'Bill_Belichick', 523: 'Bill_Bradley', 524: 'Bill_Butler', 525: 'Bill_Byrne', 526: 'Bill_Callahan', 527: 'Bill_Carmody', 528: 'Bill_Cartwright', 529: 'Bill_Clancy', 530: 'Bill_Clinton', 531: 'Bill_Curry', 532: 'Bill_Doba', 533: 'Bill_Duffey', 534: 'Bill_Elliott', 535: 'Bill_Fennelly', 536: 'Bill_Frist', 537: 'Bill_Gates', 538: 'Billy_Andrade', 539: 'Billy_Beane', 540: 'Billy_Bob_Thornton', 541: 'Billy_Boyd', 542: 'Billy_Crawford', 543: 'Billy_Crystal', 544: 'Billy_Donovan', 545: 'Billy_Edelin', 546: 'Billy_Gilman', 547: 'Billy_Graham', 548: 'Billy_Joel', 549: 'Billy_Rork', 550: 'Billy_Sollie', 551: 'Billy_Tibbets', 552: 'stathis'}\n",
      "/n The Number of output neurons:  553\n"
     ]
    }
   ],
   "source": [
    "# Creating lookup table for all faces \n",
    "# class_indices have the numeric tag for each face\n",
    "TrainClasses=training_set.class_indices\n",
    "\n",
    "# Storing the face and the numeric tag for future reference\n",
    "ResultMap={}\n",
    "for faceValue,faceName in zip(TrainClasses.values(),TrainClasses.keys()):\n",
    "    ResultMap[faceValue]=faceName\n",
    "\n",
    "\n",
    "# Saving the face map for future reference\n",
    "import pickle\n",
    "with open(\"ResultsMap.pkl\", 'wb') as fileWriteStream:\n",
    "    pickle.dump(ResultMap, fileWriteStream)\n",
    "\n",
    "# The model will give answer as a numeric tag\n",
    "# This mapping will help to get the corresponding face name for it\n",
    "print(\"Mapping of Face and its ID\",ResultMap)\n",
    "\n",
    "# The number of neurons for the output layer is equal to the number of faces\n",
    "OutputNeurons=len(ResultMap)\n",
    "print('/n The Number of output neurons: ', OutputNeurons)"
   ]
  },
  {
   "cell_type": "code",
   "execution_count": 187,
   "metadata": {},
   "outputs": [
    {
     "name": "stdout",
     "output_type": "stream",
     "text": [
      "Model: \"sequential_16\"\n",
      "_________________________________________________________________\n",
      "Layer (type)                 Output Shape              Param #   \n",
      "=================================================================\n",
      "conv2d_32 (Conv2D)           (None, 60, 60, 32)        2432      \n",
      "_________________________________________________________________\n",
      "max_pooling2d_32 (MaxPooling (None, 30, 30, 32)        0         \n",
      "_________________________________________________________________\n",
      "conv2d_33 (Conv2D)           (None, 26, 26, 64)        51264     \n",
      "_________________________________________________________________\n",
      "max_pooling2d_33 (MaxPooling (None, 13, 13, 64)        0         \n",
      "_________________________________________________________________\n",
      "flatten_16 (Flatten)         (None, 10816)             0         \n",
      "_________________________________________________________________\n",
      "dense_32 (Dense)             (None, 64)                692288    \n",
      "_________________________________________________________________\n",
      "dense_33 (Dense)             (None, 553)               35945     \n",
      "=================================================================\n",
      "Total params: 781,929\n",
      "Trainable params: 781,929\n",
      "Non-trainable params: 0\n",
      "_________________________________________________________________\n",
      "None\n"
     ]
    }
   ],
   "source": [
    "# Create CNN deep learning model \n",
    "from keras.models import Sequential\n",
    "from keras.layers import Convolution2D\n",
    "from keras.layers import MaxPool2D\n",
    "from keras.layers import Flatten\n",
    "from keras.layers import Dense\n",
    "from keras.models import Model\n",
    "\n",
    "# Initializing the Convolutional Neural Network\n",
    "classifier= Sequential()\n",
    "\n",
    "# STEP--1 Convolution\n",
    "# Adding the first layer of CNN\n",
    "# we are using the format (64,64,3) because we are using TensorFlow backend\n",
    "# It means 3 matrix of size (64X64) pixels representing Red, Green and Blue components of pixels\n",
    "\n",
    "classifier.add(Convolution2D(32, kernel_size=(5, 5), strides=(1, 1), input_shape=(64,64,3), activation='relu'))\n",
    "\n",
    "# STEP--2 MAX Pooling\n",
    "classifier.add(MaxPool2D(pool_size=(2,2)))\n",
    "\n",
    "# ADDITIONAL LAYER of CONVOLUTION for better accuracy \n",
    "classifier.add(Convolution2D(64, kernel_size=(5, 5), strides=(1, 1), activation='relu'))\n",
    "\n",
    "classifier.add(MaxPool2D(pool_size=(2,2)))\n",
    "\n",
    "# STEP--3 FLattening\n",
    "classifier.add(Flatten())\n",
    "\n",
    "# STEP--4 Fully Connected Neural Network\n",
    "classifier.add(Dense(64, activation='relu'))\n",
    "\n",
    "classifier.add(Dense(OutputNeurons, activation='softmax'))\n",
    "print(classifier.summary())"
   ]
  },
  {
   "cell_type": "code",
   "execution_count": 193,
   "metadata": {},
   "outputs": [
    {
     "name": "stdout",
     "output_type": "stream",
     "text": [
      "Epoch 1/30\n",
      "43/43 [==============================] - 17s 368ms/step - loss: 1.0981 - accuracy: 0.7025 - val_loss: 0.5673 - val_accuracy: 0.8328\n",
      "Epoch 2/30\n",
      "43/43 [==============================] - 14s 314ms/step - loss: 0.8740 - accuracy: 0.7573 - val_loss: 0.6572 - val_accuracy: 0.8016\n",
      "Epoch 3/30\n",
      "43/43 [==============================] - 14s 321ms/step - loss: 0.7522 - accuracy: 0.7851 - val_loss: 0.4596 - val_accuracy: 0.8648\n",
      "Epoch 4/30\n",
      "43/43 [==============================] - 14s 317ms/step - loss: 0.7323 - accuracy: 0.7975 - val_loss: 0.4898 - val_accuracy: 0.8597\n",
      "Epoch 5/30\n",
      "43/43 [==============================] - 14s 317ms/step - loss: 0.7523 - accuracy: 0.8095 - val_loss: 0.4914 - val_accuracy: 0.8626\n",
      "Epoch 6/30\n",
      "43/43 [==============================] - 14s 315ms/step - loss: 0.5841 - accuracy: 0.8165 - val_loss: 0.3347 - val_accuracy: 0.8961\n",
      "Epoch 7/30\n",
      "43/43 [==============================] - 14s 314ms/step - loss: 0.6622 - accuracy: 0.8089 - val_loss: 0.3577 - val_accuracy: 0.8888\n",
      "Epoch 8/30\n",
      "43/43 [==============================] - 14s 318ms/step - loss: 0.6160 - accuracy: 0.8377 - val_loss: 0.2761 - val_accuracy: 0.9164\n",
      "Epoch 9/30\n",
      "43/43 [==============================] - 13s 311ms/step - loss: 0.5509 - accuracy: 0.8535 - val_loss: 0.2743 - val_accuracy: 0.9251\n",
      "Epoch 10/30\n",
      "43/43 [==============================] - 14s 321ms/step - loss: 0.5297 - accuracy: 0.8452 - val_loss: 0.2952 - val_accuracy: 0.9062\n",
      "Epoch 11/30\n",
      "43/43 [==============================] - 13s 312ms/step - loss: 0.5464 - accuracy: 0.8481 - val_loss: 0.1850 - val_accuracy: 0.9426\n",
      "Epoch 12/30\n",
      "43/43 [==============================] - 14s 314ms/step - loss: 0.6107 - accuracy: 0.8491 - val_loss: 0.3282 - val_accuracy: 0.8997\n",
      "Epoch 13/30\n",
      "43/43 [==============================] - 14s 320ms/step - loss: 0.4377 - accuracy: 0.8618 - val_loss: 0.2424 - val_accuracy: 0.9324\n",
      "Epoch 14/30\n",
      "43/43 [==============================] - 13s 314ms/step - loss: 0.5260 - accuracy: 0.8442 - val_loss: 0.4619 - val_accuracy: 0.8641\n",
      "Epoch 15/30\n",
      "43/43 [==============================] - 14s 317ms/step - loss: 0.6159 - accuracy: 0.8441 - val_loss: 0.2481 - val_accuracy: 0.9208\n",
      "Epoch 16/30\n",
      "43/43 [==============================] - 13s 313ms/step - loss: 0.6012 - accuracy: 0.8102 - val_loss: 0.2230 - val_accuracy: 0.9346\n",
      "Epoch 17/30\n",
      "43/43 [==============================] - 14s 319ms/step - loss: 0.4840 - accuracy: 0.8486 - val_loss: 0.2100 - val_accuracy: 0.9331\n",
      "Epoch 18/30\n",
      "43/43 [==============================] - 13s 313ms/step - loss: 0.5084 - accuracy: 0.8492 - val_loss: 0.1832 - val_accuracy: 0.9513\n",
      "Epoch 19/30\n",
      "43/43 [==============================] - 14s 326ms/step - loss: 0.4196 - accuracy: 0.8734 - val_loss: 0.2186 - val_accuracy: 0.9310\n",
      "Epoch 20/30\n",
      "43/43 [==============================] - 13s 310ms/step - loss: 0.4363 - accuracy: 0.8640 - val_loss: 0.1296 - val_accuracy: 0.9600\n",
      "Epoch 21/30\n",
      "43/43 [==============================] - 14s 322ms/step - loss: 0.3703 - accuracy: 0.8866 - val_loss: 0.1518 - val_accuracy: 0.9506\n",
      "Epoch 22/30\n",
      "43/43 [==============================] - 14s 326ms/step - loss: 0.4258 - accuracy: 0.8926 - val_loss: 0.1117 - val_accuracy: 0.9688\n",
      "Epoch 23/30\n",
      "43/43 [==============================] - 14s 319ms/step - loss: 0.3853 - accuracy: 0.8796 - val_loss: 0.1537 - val_accuracy: 0.9506\n",
      "Epoch 24/30\n",
      "43/43 [==============================] - 13s 312ms/step - loss: 0.3102 - accuracy: 0.9087 - val_loss: 0.1636 - val_accuracy: 0.9499\n",
      "Epoch 25/30\n",
      "43/43 [==============================] - 13s 311ms/step - loss: 0.3100 - accuracy: 0.9049 - val_loss: 0.1133 - val_accuracy: 0.9593\n",
      "Epoch 26/30\n",
      "43/43 [==============================] - 15s 351ms/step - loss: 0.3039 - accuracy: 0.9135 - val_loss: 0.1880 - val_accuracy: 0.9440\n",
      "Epoch 27/30\n",
      "43/43 [==============================] - 18s 431ms/step - loss: 0.3252 - accuracy: 0.9115 - val_loss: 0.1471 - val_accuracy: 0.9528\n",
      "Epoch 28/30\n",
      "43/43 [==============================] - 21s 475ms/step - loss: 0.3634 - accuracy: 0.9005 - val_loss: 0.1173 - val_accuracy: 0.9593\n",
      "Epoch 29/30\n",
      "43/43 [==============================] - 22s 527ms/step - loss: 0.4961 - accuracy: 0.8576 - val_loss: 0.1584 - val_accuracy: 0.9520\n",
      "Epoch 30/30\n",
      "43/43 [==============================] - 22s 500ms/step - loss: 0.3461 - accuracy: 0.8962 - val_loss: 0.1254 - val_accuracy: 0.9557\n",
      "Wall time: 7min 22s\n"
     ]
    },
    {
     "data": {
      "text/plain": [
       "<tensorflow.python.keras.callbacks.History at 0x19f89adeaf0>"
      ]
     },
     "execution_count": 193,
     "metadata": {},
     "output_type": "execute_result"
    }
   ],
   "source": [
    "%%time\n",
    "#train model\n",
    "from keras.optimizers import RMSprop, SGD, Adam\n",
    "from keras.callbacks import ModelCheckpoint, EarlyStopping, ReduceLROnPlateau\n",
    "\n",
    "checkpoint = ModelCheckpoint(\"/home/deeplearningcv/DeepLearningCV/Trained Models/face_recognition1_vgg.h5\",\n",
    "                             monitor=\"val_loss\",\n",
    "                             mode=\"min\",\n",
    "                             save_best_only = True,\n",
    "                             verbose=1)\n",
    "\n",
    "earlystop = EarlyStopping(monitor = 'val_loss', \n",
    "                          min_delta = 0, \n",
    "                          patience = 3,\n",
    "                          verbose = 1,\n",
    "                          restore_best_weights = True)\n",
    "\n",
    "reduce_lr = ReduceLROnPlateau(monitor = 'val_loss', factor = 0.2, patience = 3, verbose = 1, min_delta = 0.0001)\n",
    "\n",
    "# we put our call backs into a callback list\n",
    "callbacks = [earlystop, checkpoint, reduce_lr]\n",
    "\n",
    "\n",
    "# Compiling the CNN\n",
    "#classifier.compile(loss='binary_crossentropy', optimizer='adam', metrics=['accuracy'])\n",
    "classifier.compile(loss='categorical_crossentropy', optimizer = 'adam', metrics=[\"accuracy\"])\n",
    "\n",
    "\n",
    "batch_size=32\n",
    "nb_train_samples = 1390  \n",
    "nb_validation_samples = 1390  \n",
    "\n",
    "# Starting the model training\n",
    "classifier.fit_generator(\n",
    "                    training_set,\n",
    "                    steps_per_epoch=nb_train_samples // batch_size,\n",
    "                    epochs=30,\n",
    "                    #callbacks = callbacks,\n",
    "                    validation_data=test_set,\n",
    "                    validation_steps=nb_validation_samples // batch_size)\n",
    "\n",
    "\n",
    "#fname='clasifier_weights.h5'\n",
    "#classifier.save_weights('clas-wei')\n",
    "#frame='clasifier_weights.h5'\n",
    "#classifier.load_weights(fname)\n",
    "#classifier.save_weights(\"clasifier_weights2.h5\")\n",
    "#load_status = classifier.load_weights(\"clasifier_weights2.h5\")\n",
    "#model = Model(inputs=classifier.layers[0].input, outputs=classifier.layers[-3].output)"
   ]
  },
  {
   "cell_type": "code",
   "execution_count": 173,
   "metadata": {},
   "outputs": [],
   "source": [
    "#model = Model(inputs=classifier.layers[0].input, outputs=classifier.layers[-3].output)"
   ]
  },
  {
   "cell_type": "code",
   "execution_count": 174,
   "metadata": {},
   "outputs": [],
   "source": [
    "class_labels = test_set.class_indices\n",
    "class_labels = {v: k for k, v in class_labels.items()}\n",
    "classes = list(class_labels.values())\n",
    "#class_labels"
   ]
  },
  {
   "cell_type": "code",
   "execution_count": null,
   "metadata": {},
   "outputs": [],
   "source": [
    "cam = cv2.VideoCapture(0)\n",
    "cam.set(3, 640) # set video width\n",
    "cam.set(4, 480) # set video height\n",
    "\n",
    "face_detector = cv2.CascadeClassifier('haarcascade_frontalface_default.xml')\n",
    "\n",
    "# For each person, enter name\n",
    "face_name = input('\\n enter name end press <return> ==>  ')\n",
    "\n",
    "print(\"\\n [INFO] Initializing face capture. Look the camera and move the head left right up down for 10 seconds ...\")\n",
    "# Initialize individual sampling face count\n",
    "count = 0\n",
    "\n",
    "while(True):\n",
    "\n",
    "    ret, img = cam.read()\n",
    "    #img = cv2.flip(img, -1) # flip video image vertically\n",
    "    gray = cv2.cvtColor(img, cv2.COLOR_BGR2BGRA)\n",
    "    faces = face_detector.detectMultiScale(gray, 1.3, 5)\n",
    "\n",
    "    for (x,y,w,h) in faces:\n",
    "\n",
    "        cv2.rectangle(img, (x,y), (x+w,y+h), (255,0,0), 2)     \n",
    "        count += 1\n",
    "\n",
    "        # Save the captured image into the datasets folder\n",
    "        cv2.imwrite( str(face_name) + \".jpg\", gray[y:y+h,x:x+w])\n",
    "        \n",
    "        \n",
    "        cv2.imshow('image', img)\n",
    "\n",
    "    k = cv2.waitKey(100) & 0xff # Press 'ESC' for exiting video\n",
    "    if k == 27:\n",
    "        break\n",
    "    elif count >= 1: # Take 1 face sample and stop video\n",
    "         break\n",
    "\n",
    "# Do a bit of cleanup\n",
    "print(\"\\n [INFO] Exiting Program and cleanup stuff\")\n",
    "cam.release()\n",
    "cv2.destroyAllWindows()"
   ]
  },
  {
   "cell_type": "code",
   "execution_count": 175,
   "metadata": {},
   "outputs": [],
   "source": [
    "import numpy as np\n",
    "import cv2\n",
    "\n",
    "from keras.models import Model, Sequential\n",
    "from keras.layers import Input, Convolution2D, ZeroPadding2D, MaxPooling2D, Flatten, Dense, Dropout, Activation\n",
    "from PIL import Image\n",
    "from keras.preprocessing.image import load_img, save_img, img_to_array\n",
    "from keras.applications.imagenet_utils import preprocess_input\n",
    "from keras.preprocessing import image\n",
    "import matplotlib.pyplot as plt\n",
    "from os import listdir\n",
    "from keras.layers import Convolution2D\n",
    "from keras.layers import MaxPool2D"
   ]
  },
  {
   "cell_type": "code",
   "execution_count": 176,
   "metadata": {},
   "outputs": [],
   "source": [
    "def preprocess_image(image_path):\n",
    "    \"\"\"Loads image from path and resizes it\"\"\"\n",
    "    img = load_img(image_path, target_size=(64, 64))\n",
    "    img = img_to_array(img)\n",
    "    img = np.expand_dims(img, axis=0)\n",
    "    img = preprocess_input(img)\n",
    "    return img"
   ]
  },
  {
   "cell_type": "code",
   "execution_count": 68,
   "metadata": {},
   "outputs": [
    {
     "name": "stdout",
     "output_type": "stream",
     "text": [
      "Model Loaded\n"
     ]
    }
   ],
   "source": [
    "def loadFaceModel():\n",
    "    classifier= Sequential()\n",
    "\n",
    "    classifier.add(Convolution2D(32, kernel_size=(5, 5), strides=(1, 1), input_shape=(64,64,3), activation='relu'))\n",
    "\n",
    "    classifier.add(MaxPool2D(pool_size=(2,2)))\n",
    "\n",
    "    classifier.add(Convolution2D(64, kernel_size=(5, 5), strides=(1, 1), activation='relu'))\n",
    "\n",
    "    classifier.add(MaxPool2D(pool_size=(2,2)))\n",
    "\n",
    "    classifier.add(Flatten())\n",
    "\n",
    "    classifier.add(Dense(64, activation='relu'))\n",
    "\n",
    "    classifier.add(Dense(OutputNeurons, activation='softmax'))\n",
    "    \n",
    "    from keras.models import model_from_json    \n",
    "    classifier.load_weights('clasifier_weights2.h5')\n",
    "    face_descriptor = Model(inputs=classifier.layers[0].input, outputs=classifier.layers[-3].output)\n",
    "    \n",
    "    return face_descriptor\n",
    "\n",
    "model = loadFaceModel()\n",
    "print(\"Model Loaded\")"
   ]
  },
  {
   "cell_type": "code",
   "execution_count": 201,
   "metadata": {},
   "outputs": [
    {
     "name": "stdout",
     "output_type": "stream",
     "text": [
      "Face representations retrieved successfully\n"
     ]
    }
   ],
   "source": [
    "#points to your extracted faces\n",
    "people_pictures = \"./group_of_faces/\"\n",
    "\n",
    "all_people_faces = dict()\n",
    "\n",
    "for file in listdir(people_pictures):\n",
    "    person_face, extension = file.split(\".\")\n",
    "    all_people_faces[person_face] = classifier.predict(preprocess_image('./group_of_faces/%s.jpg' % (person_face)))[0,:]\n",
    "\n",
    "print(\"Face representations retrieved successfully\")\n",
    "\n",
    "def findCosineSimilarity(source_representation, test_representation):\n",
    "    a = np.matmul(np.transpose(source_representation), test_representation)\n",
    "    b = np.sum(np.multiply(source_representation, source_representation))\n",
    "    c = np.sum(np.multiply(test_representation, test_representation))\n",
    "    return 1 - (a / (np.sqrt(b) * np.sqrt(c)))\n",
    "\n",
    "#Open Webcam\n",
    "cap = cv2.VideoCapture(0) \n",
    "\n",
    "while(True):\n",
    "    ret, img = cap.read()\n",
    "    faces = face_detector.detectMultiScale(img, 1.3, 5)\n",
    "\n",
    "    for (x,y,w,h) in faces:\n",
    "        if w > 100: #Adjust accordingly if your webcam resoluation is higher\n",
    "            cv2.rectangle(img,(x,y),(x+w,y+h),(255,0,0),2) #draw rectangle to main image\n",
    "            detected_face = img[int(y):int(y+h), int(x):int(x+w)] #crop detected face\n",
    "            detected_face = cv2.resize(detected_face, (64, 64)) #resize to 224x224\n",
    "\n",
    "            img_pixels = image.img_to_array(detected_face)\n",
    "            img_pixels = np.expand_dims(img_pixels, axis = 0)\n",
    "            img_pixels /= 255\n",
    "\n",
    "            captured_representation = classifier.predict(img_pixels)[0,:]\n",
    "\n",
    "            found = 0\n",
    "            for i in all_people_faces:\n",
    "                person_name = i\n",
    "                representation = all_people_faces[i]\n",
    "\n",
    "                similarity = findCosineSimilarity(representation, captured_representation)\n",
    "                if(similarity < 0.85):\n",
    "                    cv2.putText(img, person_name[0:], (int(x+w+15), int(y-12)), cv2.FONT_HERSHEY_SIMPLEX, 1, (0, 0, 255), 2)\n",
    "                    found = 1\n",
    "                    break\n",
    "\n",
    "            #connect face and text\n",
    "            cv2.line(img,(int((x+x+w)/2),y+15),(x+w,y-20),(255, 0, 0),1)\n",
    "            cv2.line(img,(x+w,y-20),(x+w+10,y-20),(255, 0, 0),1)\n",
    "\n",
    "            if(found == 0): #if found image is not in our people database\n",
    "                cv2.putText(img, 'unknown', (int(x+w+15), int(y-12)), cv2.FONT_HERSHEY_SIMPLEX, 1, (255, 0, 0), 2)\n",
    "\n",
    "    cv2.imshow('img',img)\n",
    "\n",
    "    if cv2.waitKey(1) == 13: #13 is the Enter Key\n",
    "        break\n",
    "        \n",
    "cap.release()\n",
    "cv2.destroyAllWindows()"
   ]
  },
  {
   "cell_type": "code",
   "execution_count": null,
   "metadata": {},
   "outputs": [],
   "source": []
  },
  {
   "cell_type": "code",
   "execution_count": 197,
   "metadata": {},
   "outputs": [],
   "source": [
    "epsilon = 0.40\n",
    "\n",
    "def verifyFace(img1, img2):\n",
    "    img1_representation = model.predict(preprocess_image('%s' % (img1)))[0,:]\n",
    "    img2_representation = model.predict(preprocess_image('%s' % (img2)))[0,:]\n",
    "    \n",
    "    cosine_similarity = findCosineSimilarity(img1_representation, img2_representation)\n",
    "    \n",
    "    f = plt.figure()\n",
    "    f.add_subplot(1,2, 1)\n",
    "    plt.imshow(image.load_img('%s' % (img1)))\n",
    "    plt.xticks([]); plt.yticks([])\n",
    "    f.add_subplot(1,2, 2)\n",
    "    plt.imshow(image.load_img('%s' % (img2)))\n",
    "    plt.xticks([]); plt.yticks([])\n",
    "    plt.show(block=True)\n",
    "    \n",
    "    print(\"Cosine similarity: \",cosine_similarity)\n",
    "    \n",
    "    if(cosine_similarity < epsilon):\n",
    "        print(\"They are same person\")\n",
    "    else:\n",
    "        print(\"They are not same person!\")"
   ]
  },
  {
   "cell_type": "code",
   "execution_count": 198,
   "metadata": {},
   "outputs": [
    {
     "data": {
      "image/png": "[encoded data removed]",
      "text/plain": [
       "<Figure size 432x288 with 2 Axes>"
      ]
     },
     "metadata": {},
     "output_type": "display_data"
    },
    {
     "name": "stdout",
     "output_type": "stream",
     "text": [
      "Cosine similarity:  0.0889054536819458\n",
      "They are same person\n"
     ]
    }
   ],
   "source": [
    "# Let's compare two faces images of Angelina Jolie\n",
    "verifyFace(\"stathis.jpg\", \"user_olga.jpg\")"
   ]
  },
  {
   "cell_type": "code",
   "execution_count": null,
   "metadata": {},
   "outputs": [],
   "source": []
  }
 ],
 "metadata": {
  "kernelspec": {
   "display_name": "Python 3",
   "language": "python",
   "name": "python3"
  },
  "language_info": {
   "codemirror_mode": {
    "name": "ipython",
    "version": 3
   },
   "file_extension": ".py",
   "mimetype": "text/x-python",
   "name": "python",
   "nbconvert_exporter": "python",
   "pygments_lexer": "ipython3",
   "version": "3.8.3"
  }
 },
 "nbformat": 4,
 "nbformat_minor": 4
}
